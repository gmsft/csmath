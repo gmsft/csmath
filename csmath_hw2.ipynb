{
  "nbformat": 4,
  "nbformat_minor": 0,
  "metadata": {
    "colab": {
      "name": "csmath-hw2.ipynb",
      "provenance": [],
      "toc_visible": true,
      "authorship_tag": "ABX9TyMQa4vqpJC/JZfZD2DsJDEK",
      "include_colab_link": true
    },
    "kernelspec": {
      "name": "python3",
      "display_name": "Python 3"
    },
    "language_info": {
      "name": "python"
    }
  },
  "cells": [
    {
      "cell_type": "markdown",
      "metadata": {
        "id": "view-in-github",
        "colab_type": "text"
      },
      "source": [
        "<a href=\"https://colab.research.google.com/github/gmsft/csmath/blob/master/csmath_hw2.ipynb\" target=\"_parent\"><img src=\"https://colab.research.google.com/assets/colab-badge.svg\" alt=\"Open In Colab\"/></a>"
      ]
    },
    {
      "cell_type": "markdown",
      "metadata": {
        "id": "XTZK5gUwEVvA"
      },
      "source": [
        "Homework02\n",
        "Represent digits '3' in 2D."
      ]
    },
    {
      "cell_type": "markdown",
      "metadata": {
        "id": "1ZG_hyXrEib2"
      },
      "source": [
        "# 1.准备数据"
      ]
    },
    {
      "cell_type": "markdown",
      "metadata": {
        "id": "UV0NJM_BrhZn"
      },
      "source": [
        "##下载原始数据"
      ]
    },
    {
      "cell_type": "code",
      "metadata": {
        "id": "O5HJuvWeEDRd"
      },
      "source": [
        "# !pwd\n",
        "# !cd sample_data/\n",
        "# !wget http://archive.ics.uci.edu/ml/machine-learning-databases/optdigits/optdigits.tra\n",
        "import pandas as pd\n",
        "import numpy as np\n",
        "import matplotlib.pyplot as plt\n",
        "\n",
        "def pre_data(number):\n",
        "  df = pd.read_csv('/content/sample_data/optdigits.tra',header=None)\n",
        "  # get all 3\n",
        "  df = df[df.iloc[:,64]==number]\n",
        "  # print(df)\n",
        "  return df"
      ],
      "execution_count": 77,
      "outputs": []
    },
    {
      "cell_type": "markdown",
      "metadata": {
        "id": "HdCRBnxt9ZGe"
      },
      "source": [
        "## 生成矩阵"
      ]
    },
    {
      "cell_type": "code",
      "metadata": {
        "id": "G0vIwTXArwWk"
      },
      "source": [
        "# 把给定的行转换为ndarray(8x8)\n",
        "def getA3(df,row):\n",
        "  s = df.iloc[row,:64]\n",
        "  # print(s)\n",
        "  arr = s.values.reshape(8,8)\n",
        "  # plt.imshow(arr,cmap='gray')\n",
        "  # print(type(arr))\n",
        "  # print(arr)\n",
        "  return arr\n",
        "# x = getA3(df,0)"
      ],
      "execution_count": 78,
      "outputs": []
    },
    {
      "cell_type": "markdown",
      "metadata": {
        "id": "J0NP6ZoGxuz2"
      },
      "source": [
        "# 2.PCA\n"
      ]
    },
    {
      "cell_type": "markdown",
      "metadata": {
        "id": "x1gU4lb4yj0g"
      },
      "source": [
        "## 中心化（按列）"
      ]
    },
    {
      "cell_type": "code",
      "metadata": {
        "id": "hUY2YY2-x6r7"
      },
      "source": [
        "# 对x(ndarry类型)进行中心化；ax指定方向，默认按列\n",
        "def centralize(x, ax=0):\n",
        "  # x = getA3(df,0)\n",
        "  # print(x)\n",
        "  # np.mean(x,axis=0)\n",
        "  avg = x.mean(axis=ax)\n",
        "  # print(avg)\n",
        "  centered = x-avg\n",
        "  return centered\n",
        "# A = centralize(x)"
      ],
      "execution_count": 79,
      "outputs": []
    },
    {
      "cell_type": "markdown",
      "metadata": {
        "id": "eKSfgT686Tn1"
      },
      "source": [
        "## 计算协方差矩阵"
      ]
    },
    {
      "cell_type": "code",
      "metadata": {
        "id": "oGsLJYac6XrR"
      },
      "source": [
        "# A,样本矩阵\n",
        "def covMatrix(A):\n",
        "  # print(A)\n",
        "  # print(A.T)\n",
        "  cov = np.dot(A, A.T)/8\n",
        "  return cov\n",
        "\n",
        "# cov = covMatrix(A)"
      ],
      "execution_count": 80,
      "outputs": []
    },
    {
      "cell_type": "markdown",
      "metadata": {
        "id": "TIH6K0qIAb5E"
      },
      "source": [
        "## 求协方差矩阵的特征值及特征向量"
      ]
    },
    {
      "cell_type": "code",
      "metadata": {
        "id": "VO5mLcWFAi50"
      },
      "source": [
        "def get_v(cov):\n",
        "  w,v = np.linalg.eig(cov)\n",
        "  # print('特征值是：{},{}\\n特征向量是：{},{}'.format(w.shape,w,v.shape,v))\n",
        "  # print(w.re)\n",
        "  return v"
      ],
      "execution_count": 81,
      "outputs": []
    },
    {
      "cell_type": "markdown",
      "metadata": {
        "id": "_uj3w807Dqgn"
      },
      "source": [
        "## 取前k个最大的特征值组成矩阵P"
      ]
    },
    {
      "cell_type": "code",
      "metadata": {
        "id": "aT-ArWbHDzR_"
      },
      "source": [
        "def getTopK(cov, k):\n",
        "  new_cov = cov[0:k,:]\n",
        "  return new_cov\n",
        "# p = getTopK(v, 2)\n",
        "# print(p)"
      ],
      "execution_count": 82,
      "outputs": []
    },
    {
      "cell_type": "markdown",
      "metadata": {
        "id": "MuFVmU_rKeX4"
      },
      "source": [
        "## 降维后的数据y"
      ]
    },
    {
      "cell_type": "code",
      "metadata": {
        "id": "FwfX-4PgKlhX"
      },
      "source": [
        "# y = np.dot(p,x)\n",
        "# print(y)"
      ],
      "execution_count": 83,
      "outputs": []
    },
    {
      "cell_type": "markdown",
      "metadata": {
        "id": "NCcwrM3bO_hi"
      },
      "source": [
        "# 可视化降维后的数据"
      ]
    },
    {
      "cell_type": "code",
      "metadata": {
        "id": "U4eA-wZrPESB"
      },
      "source": [
        "def visual(x, y):\n",
        "  plt.figure(121)\n",
        "  for i in y:\n",
        "    plt.scatter(i[0,:],i[1,:])\n",
        "  plt.xlabel('First Principal Componecnt')\n",
        "  plt.ylabel('Second Principal Componecnt')\n",
        "  plt.grid()\n",
        "  \n",
        "  plt.figure(122)\n",
        "  for j in range(0,len(x)):\n",
        "    plt.subplot(5,5,j+1)\n",
        "    plt.imshow(x[j], cmap='gray')\n",
        "\n",
        "  plt.show()\n",
        "  return None\n"
      ],
      "execution_count": 84,
      "outputs": []
    },
    {
      "cell_type": "markdown",
      "metadata": {
        "id": "GB3-IwufnCVW"
      },
      "source": [
        "# 可视化数字"
      ]
    },
    {
      "cell_type": "code",
      "metadata": {
        "id": "6D574oKvnFhN"
      },
      "source": [
        "def visual_num(x):\n",
        "  img_2_drawn = x\n",
        "  \n",
        "plt.show()"
      ],
      "execution_count": 85,
      "outputs": []
    },
    {
      "cell_type": "markdown",
      "metadata": {
        "id": "FszH1jnmMtgZ"
      },
      "source": [
        "# 调用PCA"
      ]
    },
    {
      "cell_type": "code",
      "metadata": {
        "colab": {
          "base_uri": "https://localhost:8080/",
          "height": 580
        },
        "id": "L_PbKnlfM0tu",
        "outputId": "5700ee53-5230-467c-e1e2-ef391f39c295"
      },
      "source": [
        "def my_pca(df, row, k):\n",
        "\n",
        "  # 把其中的row行转化为8*8的ndarray\n",
        "  # row = 0\n",
        "  x = getA3(df,row)\n",
        "  # 按列进行中心化\n",
        "  n = centralize(x)\n",
        "  # 计算协方差矩阵\n",
        "  c = covMatrix(n)\n",
        "  # 求协方差矩阵的特征向量\n",
        "  v = get_v(c)\n",
        "  # 使用topK个特征向量构造矩阵P\n",
        "  # k = 2\n",
        "  p = getTopK(v,k)\n",
        "  # 进行数据降维\n",
        "  y = np.dot(p, x)\n",
        "  return x,y\n",
        "\n",
        "# 获取数据，25个3，长度为64，每个元素值为0-16\n",
        "number = 3\n",
        "df = pre_data(number)\n",
        "print(df.shape)\n",
        "k = 2\n",
        "img_2_drawn = []\n",
        "after_pca_y = []\n",
        "for r in range (25):\n",
        "  x,y = my_pca(df,r,k)\n",
        "  img_2_drawn.append(x)\n",
        "  after_pca_y.append(y)\n",
        "\n",
        "# 绘图\n",
        "visual(img_2_drawn, after_pca_y)"
      ],
      "execution_count": 86,
      "outputs": [
        {
          "output_type": "stream",
          "text": [
            "(389, 65)\n"
          ],
          "name": "stdout"
        },
        {
          "output_type": "stream",
          "text": [
            "/usr/local/lib/python3.7/dist-packages/numpy/core/_asarray.py:136: ComplexWarning: Casting complex values to real discards the imaginary part\n",
            "  return array(a, dtype, copy=False, order=order, subok=True)\n"
          ],
          "name": "stderr"
        },
        {
          "output_type": "display_data",
          "data": {
            "image/png": "[encoded data removed]",
            "text/plain": [
              "<Figure size 432x288 with 1 Axes>"
            ]
          },
          "metadata": {
            "tags": [],
            "needs_background": "light"
          }
        },
        {
          "output_type": "display_data",
          "data": {
            "image/png": "[encoded data removed]",
            "text/plain": [
              "<Figure size 432x288 with 25 Axes>"
            ]
          },
          "metadata": {
            "tags": [],
            "needs_background": "light"
          }
        }
      ]
    }
  ]
}